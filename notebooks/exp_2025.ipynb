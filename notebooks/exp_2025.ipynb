{
 "cells": [
  {
   "cell_type": "code",
   "execution_count": null,
   "id": "7c859fbf",
   "metadata": {},
   "outputs": [],
   "source": [
    "from sqlalchemy import create_engine\n",
    "from sqlalchemy import text\n",
    "\n",
    "# Connection parameters (adjust as needed)\n",
    "db_user = \"postgres\"       # Your PostgreSQL username\n",
    "db_pass = \"postgres\"       # Your PostgreSQL password\n",
    "db_host = \"localhost\"      # Since you mapped 5432:5432\n",
    "db_port = \"5432\"           # Default PostgreSQL port\n",
    "db_name = \"mimiciv\"        # Your database name\n",
    "\n",
    "# SQLAlchemy connection URL\n",
    "db_url = f\"postgresql+psycopg2://{db_user}:{db_pass}@{db_host}:{db_port}/{db_name}\"\n",
    "\n",
    "# Create the engine\n",
    "engine = create_engine(db_url)"
   ]
  },
  {
   "cell_type": "code",
   "execution_count": null,
   "id": "0b3a8419",
   "metadata": {},
   "outputs": [],
   "source": [
    "\n",
    "# Example: Query the 'patients' table in MIMIC-IV\n",
    "query = text(\"SELECT * FROM mimiciv_icu.datetimeevents LIMIT 5;\")\n",
    "\n",
    "# get_all_tables = text(\"SELECT table_name FROM information_schema.tables WHERE table_schema='mimiciv_hosp';\")\n",
    "\n",
    "\n",
    "with engine.connect() as conn:\n",
    "    result = conn.execute(query)\n",
    "    for row in result:\n",
    "        print(row)"
   ]
  },
  {
   "cell_type": "code",
   "execution_count": null,
   "id": "da3d4f1f",
   "metadata": {},
   "outputs": [],
   "source": [
    "with engine.connect() as conn:\n",
    "    result = conn.execute(get_all_tables)\n",
    "    for row in result:\n",
    "        print(row)"
   ]
  },
  {
   "cell_type": "code",
   "execution_count": null,
   "id": "7c8a773b",
   "metadata": {},
   "outputs": [],
   "source": [
    "import pandas as pd\n",
    "\n",
    "# Query and load results into a DataFrame\n",
    "query = \"SELECT * FROM mimiciv_icu.datetimeevents LIMIT 10;\"\n",
    "df = pd.read_sql(query, engine)\n",
    "\n",
    "print(df.head())"
   ]
  },
  {
   "cell_type": "code",
   "execution_count": null,
   "id": "01a2bac5",
   "metadata": {},
   "outputs": [],
   "source": [
    "df.head()"
   ]
  },
  {
   "cell_type": "code",
   "execution_count": null,
   "id": "b77035c8",
   "metadata": {},
   "outputs": [],
   "source": [
    "query = \"\"\"\n",
    "SELECT *\n",
    "FROM mimiciv_icu.icustays;\n",
    "\"\"\"\n",
    "df = pd.read_sql(query, engine)"
   ]
  },
  {
   "cell_type": "code",
   "execution_count": null,
   "id": "63cc3c11",
   "metadata": {},
   "outputs": [],
   "source": [
    "df.head()"
   ]
  },
  {
   "cell_type": "code",
   "execution_count": null,
   "id": "d42baa9b",
   "metadata": {},
   "outputs": [],
   "source": [
    "import os\n",
    "import sys\n",
    "\n",
    "sys.path.append(os.path.dirname(os.getcwd()))\n",
    "\n",
    "from utils import Database"
   ]
  },
  {
   "cell_type": "code",
   "execution_count": null,
   "id": "0970d0f6",
   "metadata": {},
   "outputs": [
    {
     "ename": "NameError",
     "evalue": "name 'Database' is not defined",
     "output_type": "error",
     "traceback": [
      "\u001b[31m---------------------------------------------------------------------------\u001b[39m",
      "\u001b[31mNameError\u001b[39m                                 Traceback (most recent call last)",
      "\u001b[36mCell\u001b[39m\u001b[36m \u001b[39m\u001b[32mIn[6]\u001b[39m\u001b[32m, line 4\u001b[39m\n\u001b[32m      2\u001b[39m DatabaseSettings = DatabaseSettings()\n\u001b[32m      3\u001b[39m DatabaseSettings.get_db_uri()\n\u001b[32m----> \u001b[39m\u001b[32m4\u001b[39m db = \u001b[43mDatabase\u001b[49m()\n",
      "\u001b[31mNameError\u001b[39m: name 'Database' is not defined"
     ]
    }
   ],
   "source": []
  },
  {
   "cell_type": "code",
   "execution_count": null,
   "id": "3f824a62",
   "metadata": {},
   "outputs": [],
   "source": []
  }
 ],
 "metadata": {
  "kernelspec": {
   "display_name": ".myenv",
   "language": "python",
   "name": "python3"
  },
  "language_info": {
   "codemirror_mode": {
    "name": "ipython",
    "version": 3
   },
   "file_extension": ".py",
   "mimetype": "text/x-python",
   "name": "python",
   "nbconvert_exporter": "python",
   "pygments_lexer": "ipython3",
   "version": "3.11.9"
  }
 },
 "nbformat": 4,
 "nbformat_minor": 5
}
