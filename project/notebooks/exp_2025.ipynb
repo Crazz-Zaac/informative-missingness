{
 "cells": [
  {
   "cell_type": "markdown",
   "id": "a064a422",
   "metadata": {},
   "source": [
    "## Show the tables in schema"
   ]
  },
  {
   "cell_type": "code",
   "execution_count": 1,
   "id": "e2ec9e61",
   "metadata": {},
   "outputs": [
    {
     "name": "stdout",
     "output_type": "stream",
     "text": [
      "Schema: mimiciv_icu\n",
      "['caregiver', 'chartevents', 'datetimeevents', 'd_items', 'icustays', 'ingredientevents', 'inputevents', 'outputevents', 'procedureevents']\n",
      "Schema: mimiciv_hosp\n",
      "['admissions', 'd_hcpcs', 'diagnoses_icd', 'd_icd_diagnoses', 'd_icd_procedures', 'd_labitems', 'drgcodes', 'emar_detail', 'emar', 'hcpcsevents', 'labevents', 'microbiologyevents', 'omr', 'patients', 'pharmacy', 'poe_detail', 'poe', 'prescriptions', 'procedures_icd', 'provider', 'services', 'transfers']\n"
     ]
    }
   ],
   "source": [
    "import sys\n",
    "import os\n",
    "sys.path.append(os.path.abspath(\"..\"))  # adding the parent directory of 'notebooks' to sys.path\n",
    "from utils import Database\n",
    "engine = Database()\n",
    "schema_list = [\"mimiciv_icu\", \"mimiciv_hosp\"]\n",
    "for schema in schema_list:\n",
    "    print(f\"Schema: {schema}\")\n",
    "    tables = Database.show_tables_in_schema(engine, schema)\n",
    "    print(tables)"
   ]
  },
  {
   "cell_type": "markdown",
   "id": "062ade55",
   "metadata": {},
   "source": [
    "## Load tables into a dataframe"
   ]
  },
  {
   "cell_type": "code",
   "execution_count": null,
   "id": "bce24add",
   "metadata": {},
   "outputs": [],
   "source": [
    "import pandas as pd\n",
    "admission_db = Database()\n",
    "chunk_size = 100000\n",
    "admission_df = admission_db.read_table_to_df(\n",
    "    table_name=\"admissions\", \n",
    "    schema_name=\"mimiciv_hosp\", \n",
    "    limit=chunk_size,\n",
    "    # order_by=\"admittime\",\n",
    ")\n",
    "\n",
    "labevents_df = admission_db.read_table_to_df(\n",
    "    table_name=\"labevents\", \n",
    "    schema_name=\"mimiciv_hosp\", \n",
    "    limit=chunk_size,\n",
    ")\n",
    "\n",
    "# datetime conversions\n",
    "admission_df['admittime'] = pd.to_datetime(admission_df['admittime'], errors='coerce')\n",
    "admission_df['dischtime'] = pd.to_datetime(admission_df['dischtime'], errors='coerce')\n",
    "labevents_df['charttime'] = pd.to_datetime(labevents_df['charttime'], errors='coerce')\n"
   ]
  },
  {
   "cell_type": "code",
   "execution_count": null,
   "id": "28d72f68",
   "metadata": {},
   "outputs": [],
   "source": [
    "patient_data_df = pd.merge(\n",
    "    labevents_df,\n",
    "    admission_df[[\"subject_id\", \"hadm_id\", \"admittime\", \"dischtime\"]],\n",
    "    on=[\"subject_id\", \"hadm_id\"],\n",
    "    how=\"inner\"\n",
    ")\n",
    "# Filter labevents to only include those within the admission time frame\n",
    "patient_data_df = patient_data_df[\n",
    "    (patient_data_df.charttime >= patient_data_df.admittime)\n",
    "    & (patient_data_df.charttime <= patient_data_df.dischtime)\n",
    "]\n",
    "\n",
    "\n"
   ]
  },
  {
   "cell_type": "code",
   "execution_count": null,
   "id": "d0274c62",
   "metadata": {},
   "outputs": [],
   "source": [
    "patient_data_df[\"hours_since_admit\"] = (\n",
    "    patient_data_df[\"charttime\"] - patient_data_df[\"admittime\"]\n",
    ").dt.total_seconds() / 3600\n",
    "# patient_data_df['hours_since_discht'] = (\n",
    "#     patient_data_df['dischtime'] - patient_data_df['charttime']\n",
    "# ).dt.total_seconds() / 3600\n",
    "\n",
    "# valuenum is the float value of the 'value' column\n",
    "patient_data_df = patient_data_df[\n",
    "    [\n",
    "        \"subject_id\",\n",
    "        \"hadm_id\",\n",
    "        \"admittime\",\n",
    "        \"dischtime\",\n",
    "        \"hours_since_admit\",\n",
    "        \"itemid\",\n",
    "        \"valuenum\",\n",
    "        \"charttime\",\n",
    "    ]\n",
    "]\n",
    "patient_data_df.head()"
   ]
  },
  {
   "cell_type": "code",
   "execution_count": null,
   "id": "727cba27",
   "metadata": {},
   "outputs": [],
   "source": [
    "patient_data_df.columns"
   ]
  },
  {
   "cell_type": "code",
   "execution_count": null,
   "id": "befe4822",
   "metadata": {},
   "outputs": [],
   "source": [
    "pivoted_patient_data_df = patient_data_df.pivot_table(\n",
    "    index=['subject_id', 'hadm_id', 'hours_since_admit'],\n",
    "    columns='itemid',\n",
    "    values='valuenum',\n",
    ")"
   ]
  },
  {
   "cell_type": "code",
   "execution_count": null,
   "id": "c0a29585",
   "metadata": {},
   "outputs": [],
   "source": [
    "pivoted_patient_data_df.head()"
   ]
  },
  {
   "cell_type": "code",
   "execution_count": null,
   "id": "38e004ff",
   "metadata": {},
   "outputs": [],
   "source": [
    "masked_patient_data_df = patient_data_df.pivot_table(\n",
    "    index=['subject_id', 'hadm_id', 'hours_since_admit'],\n",
    "    columns='itemid',\n",
    "    values='valuenum',\n",
    "    aggfunc=lambda x: 1 if not pd.isna(x).any() else 0\n",
    ")\n",
    "masked_patient_data_df.head()"
   ]
  },
  {
   "cell_type": "code",
   "execution_count": null,
   "id": "70049061",
   "metadata": {},
   "outputs": [],
   "source": [
    "# For each itemid, compute time since last observation\n",
    "deltas = {}\n",
    "itemids = patient_data_df['itemid'].unique()\n",
    "for item in itemids:\n",
    "    item_df = patient_data_df[patient_data_df['itemid'] == item].sort_values('hours_since_admit')\n",
    "    item_df['delta'] = item_df['hours_since_admit'].diff().fillna(0)\n",
    "    deltas[item] = item_df.set_index('hours_since_admit')['delta']"
   ]
  },
  {
   "cell_type": "code",
   "execution_count": null,
   "id": "b4f5e6e4",
   "metadata": {},
   "outputs": [],
   "source": []
  },
  {
   "cell_type": "code",
   "execution_count": null,
   "id": "82b2b002",
   "metadata": {},
   "outputs": [],
   "source": []
  },
  {
   "cell_type": "markdown",
   "id": "526cc2c0",
   "metadata": {},
   "source": [
    "# Getting all `labevents` data"
   ]
  },
  {
   "cell_type": "code",
   "execution_count": 9,
   "id": "e76c84e7",
   "metadata": {},
   "outputs": [],
   "source": [
    "from dotenv import load_dotenv\n",
    "import os\n",
    "from sqlalchemy import create_engine\n",
    "\n",
    "# Load the .env file\n",
    "load_dotenv()\n",
    "\n",
    "# Access the MAP_KEY\n",
    "# MAP_KEY = os.getenv(\"MAP_KEY\")\n",
    "DB_USER = os.getenv(\"DB_USER\")\n",
    "DB_PASS = os.getenv(\"DB_PASS\")\n",
    "DB_HOST = os.getenv(\"DB_HOST\")\n",
    "DB_PORT = os.getenv(\"DB_PORT\")\n",
    "DB_NAME = os.getenv(\"DB_NAME\")\n",
    "url = f\"postgresql+psycopg2://{DB_USER}:{DB_PASS}@{DB_HOST}:{DB_PORT}/{DB_NAME}\"\n",
    "engine = create_engine(url)\n",
    "conn = engine.connect()\n",
    "cursor = conn.connection.cursor()\n",
    "# Create the table temporarily in the database\n",
    "cursor.execute(\"\"\"\n",
    "    CREATE TEMP TABLE temp_cohort (\n",
    "        subject_id INT,\n",
    "        hadm_id INT,\n",
    "        admittime TIMESTAMP,\n",
    "        dischtime TIMESTAMP,\n",
    "        target  INT\n",
    "    );\n",
    "\"\"\")\n"
   ]
  },
  {
   "cell_type": "code",
   "execution_count": 10,
   "id": "c650a9d5",
   "metadata": {},
   "outputs": [],
   "source": [
    "import pandas as pd\n",
    "from psycopg2.extras import execute_values\n",
    "cohort_df = pd.read_csv('../assets/cohort1_target.csv')\n",
    "cohort_df['admittime'] = pd.to_datetime(cohort_df['admittime'], errors='coerce')\n",
    "cohort_df['dischtime'] = pd.to_datetime(cohort_df['dischtime'], errors='coerce')\n",
    "\n",
    "# Insert the data from the DataFrame into the temporary table\n",
    "cohort_df.to_sql(\"temp_cohort\", engine, schema=\"public\", index=False, if_exists=\"replace\")\n",
    "\n",
    "values = list(cohort_df.itertuples(index=False, name=None))\n",
    "execute_values(cursor,\n",
    "    \"INSERT INTO temp_cohort (subject_id, hadm_id, admittime, dischtime, target) VALUES %s\",\n",
    "    values\n",
    ")\n",
    "\n",
    "conn.commit()"
   ]
  },
  {
   "cell_type": "code",
   "execution_count": 13,
   "id": "92a7773a",
   "metadata": {},
   "outputs": [],
   "source": [
    "query = \"\"\"\n",
    "SELECT \n",
    "    le.subject_id, \n",
    "    le.hadm_id, \n",
    "    le.itemid, \n",
    "    le.charttime, \n",
    "    le.valuenum,\n",
    "    tc.target\n",
    "FROM mimiciv_hosp.labevents le\n",
    "JOIN public.temp_cohort tc\n",
    "  ON le.subject_id = tc.subject_id\n",
    " AND le.hadm_id = tc.hadm_id\n",
    "WHERE le.charttime BETWEEN (tc.dischtime - INTERVAL '7 days') AND tc.dischtime;\n",
    "\"\"\"\n",
    "# WHERE le.charttime BETWEEN (tc.dischtime - INTERVAL '14 days') AND tc.dischtime;\n",
    "\n",
    "# Run query in chunks\n",
    "lab_chunks = pd.read_sql(query, engine, chunksize=1000)\n",
    "\n",
    "# Combine all chunks into a single DataFrame\n",
    "lab_df = pd.concat(chunk for chunk in lab_chunks)\n",
    "\n",
    "# Reset index after concat\n",
    "lab_df.reset_index(drop=True, inplace=True)\n",
    "\n"
   ]
  },
  {
   "cell_type": "code",
   "execution_count": 14,
   "id": "d3347cf4",
   "metadata": {},
   "outputs": [
    {
     "name": "stdout",
     "output_type": "stream",
     "text": [
      "Data successfully written to lab_events_7_days_prior.parquet\n"
     ]
    }
   ],
   "source": [
    "try:\n",
    "    # lab_df.to_parquet(\"../dataset/lab_events_14_days_prior.parquet\", index=False)\n",
    "    lab_df.to_parquet(\"../dataset/lab_events_7_days_prior.parquet\", index=False)\n",
    "    print(\"Data successfully written to lab_events_7_days_prior.parquet\")\n",
    "except Exception as e:\n",
    "    lab_df.to_parquet(\"lab_events_7_days_prior.parquet\", index=False)\n",
    "    print(f\"File written to current directory: {e}\")\n"
   ]
  },
  {
   "cell_type": "code",
   "execution_count": 15,
   "id": "8d7846fc",
   "metadata": {},
   "outputs": [
    {
     "data": {
      "text/html": [
       "<div>\n",
       "<style scoped>\n",
       "    .dataframe tbody tr th:only-of-type {\n",
       "        vertical-align: middle;\n",
       "    }\n",
       "\n",
       "    .dataframe tbody tr th {\n",
       "        vertical-align: top;\n",
       "    }\n",
       "\n",
       "    .dataframe thead th {\n",
       "        text-align: right;\n",
       "    }\n",
       "</style>\n",
       "<table border=\"1\" class=\"dataframe\">\n",
       "  <thead>\n",
       "    <tr style=\"text-align: right;\">\n",
       "      <th></th>\n",
       "      <th>subject_id</th>\n",
       "      <th>hadm_id</th>\n",
       "      <th>itemid</th>\n",
       "      <th>charttime</th>\n",
       "      <th>valuenum</th>\n",
       "      <th>target</th>\n",
       "    </tr>\n",
       "  </thead>\n",
       "  <tbody>\n",
       "    <tr>\n",
       "      <th>0</th>\n",
       "      <td>16893819</td>\n",
       "      <td>29809400</td>\n",
       "      <td>50983</td>\n",
       "      <td>2201-03-15 05:10:00</td>\n",
       "      <td>141.0</td>\n",
       "      <td>0</td>\n",
       "    </tr>\n",
       "    <tr>\n",
       "      <th>1</th>\n",
       "      <td>16893819</td>\n",
       "      <td>29809400</td>\n",
       "      <td>51006</td>\n",
       "      <td>2201-03-15 05:10:00</td>\n",
       "      <td>11.0</td>\n",
       "      <td>0</td>\n",
       "    </tr>\n",
       "    <tr>\n",
       "      <th>2</th>\n",
       "      <td>16893819</td>\n",
       "      <td>29809400</td>\n",
       "      <td>51678</td>\n",
       "      <td>2201-03-15 05:10:00</td>\n",
       "      <td>6.0</td>\n",
       "      <td>0</td>\n",
       "    </tr>\n",
       "    <tr>\n",
       "      <th>3</th>\n",
       "      <td>16893819</td>\n",
       "      <td>29809400</td>\n",
       "      <td>50868</td>\n",
       "      <td>2201-03-14 06:42:00</td>\n",
       "      <td>10.0</td>\n",
       "      <td>0</td>\n",
       "    </tr>\n",
       "    <tr>\n",
       "      <th>4</th>\n",
       "      <td>16893819</td>\n",
       "      <td>29809400</td>\n",
       "      <td>50882</td>\n",
       "      <td>2201-03-14 06:42:00</td>\n",
       "      <td>28.0</td>\n",
       "      <td>0</td>\n",
       "    </tr>\n",
       "  </tbody>\n",
       "</table>\n",
       "</div>"
      ],
      "text/plain": [
       "   subject_id   hadm_id  itemid           charttime  valuenum  target\n",
       "0    16893819  29809400   50983 2201-03-15 05:10:00     141.0       0\n",
       "1    16893819  29809400   51006 2201-03-15 05:10:00      11.0       0\n",
       "2    16893819  29809400   51678 2201-03-15 05:10:00       6.0       0\n",
       "3    16893819  29809400   50868 2201-03-14 06:42:00      10.0       0\n",
       "4    16893819  29809400   50882 2201-03-14 06:42:00      28.0       0"
      ]
     },
     "execution_count": 15,
     "metadata": {},
     "output_type": "execute_result"
    }
   ],
   "source": [
    "lab_df.head()"
   ]
  },
  {
   "cell_type": "code",
   "execution_count": 16,
   "id": "595049aa",
   "metadata": {},
   "outputs": [
    {
     "data": {
      "text/plain": [
       "3518649"
      ]
     },
     "execution_count": 16,
     "metadata": {},
     "output_type": "execute_result"
    }
   ],
   "source": [
    "len(lab_df)"
   ]
  },
  {
   "cell_type": "code",
   "execution_count": null,
   "id": "715982a0",
   "metadata": {},
   "outputs": [],
   "source": []
  }
 ],
 "metadata": {
  "kernelspec": {
   "display_name": ".myenv",
   "language": "python",
   "name": "python3"
  },
  "language_info": {
   "codemirror_mode": {
    "name": "ipython",
    "version": 3
   },
   "file_extension": ".py",
   "mimetype": "text/x-python",
   "name": "python",
   "nbconvert_exporter": "python",
   "pygments_lexer": "ipython3",
   "version": "3.11.9"
  }
 },
 "nbformat": 4,
 "nbformat_minor": 5
}
